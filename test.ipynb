{
 "cells": [
  {
   "cell_type": "code",
   "execution_count": 37,
   "metadata": {},
   "outputs": [
    {
     "name": "stdout",
     "output_type": "stream",
     "text": [
      "[[[0. 0. 0.]\n",
      "  [0. 0. 1.]\n",
      "  [0. 0. 2.]]\n",
      "\n",
      " [[0. 1. 0.]\n",
      "  [0. 1. 1.]\n",
      "  [0. 1. 2.]]\n",
      "\n",
      " [[0. 2. 0.]\n",
      "  [0. 2. 1.]\n",
      "  [0. 2. 2.]]\n",
      "\n",
      " [[0. 3. 0.]\n",
      "  [0. 3. 1.]\n",
      "  [0. 3. 2.]]\n",
      "\n",
      " [[0. 4. 0.]\n",
      "  [0. 4. 1.]\n",
      "  [0. 4. 2.]]]\n"
     ]
    }
   ],
   "source": [
    "import numpy as np\n",
    "\n",
    "depth = 5\n",
    "width = 3 # = height\n",
    "\n",
    "# We create the 3D matrix\n",
    "m = np.zeros((depth, width, width))\n",
    "\n",
    "# The last column on every depth is [0, 1, 2]\n",
    "last_column = np.arange(width)\n",
    "m[:, :, 2] += last_column\n",
    "\n",
    "# The middle column on every depth is [0, ..., 1, ..., 2]\n",
    "middle_column = np.arange(depth)\n",
    "m[:, :, 1] += middle_column[:, None] # <- the `None` here is a bit tricky. This what we call broadcasting\n",
    "\n",
    "print(m)"
   ]
  },
  {
   "cell_type": "markdown",
   "metadata": {},
   "source": [
    "## Broadcast\n",
    "\n",
    "How does broadcasting works ? It is a bit complicated to understand. You can think of this as:\n",
    "\"I broadcast when I want to expand my vector along a particular dimension\"\n",
    "\n",
    "### Example"
   ]
  },
  {
   "cell_type": "code",
   "execution_count": 38,
   "metadata": {},
   "outputs": [
    {
     "name": "stdout",
     "output_type": "stream",
     "text": [
      "[[ 0  1  2  3  4]\n",
      " [ 5  6  7  8  9]\n",
      " [10 11 12 13 14]]\n"
     ]
    }
   ],
   "source": [
    "# we have a 2d matrix\n",
    "\n",
    "m = np.reshape(np.arange(15), (3, 5))\n",
    "print(m)"
   ]
  },
  {
   "cell_type": "code",
   "execution_count": 39,
   "metadata": {},
   "outputs": [
    {
     "name": "stdout",
     "output_type": "stream",
     "text": [
      "[[10 12 14 16 18]\n",
      " [15 17 19 21 23]\n",
      " [20 22 24 26 28]]\n"
     ]
    }
   ],
   "source": [
    "# We want to had the vector [10, 11, 12, 13, 14] on every row.\n",
    "\n",
    "# Naive algorithm, which consists in iterating over all the rows\n",
    "m = np.reshape(np.arange(15), (3, 5))\n",
    "vector = np.array([10, 11, 12, 13, 14])\n",
    "for row in m:\n",
    "    row += vector\n",
    "print(m)"
   ]
  },
  {
   "cell_type": "code",
   "execution_count": 40,
   "metadata": {},
   "outputs": [
    {
     "name": "stdout",
     "output_type": "stream",
     "text": [
      "[[10 12 14 16 18]\n",
      " [15 17 19 21 23]\n",
      " [20 22 24 26 28]]\n"
     ]
    }
   ],
   "source": [
    "# Let's use broadcasting. Basically, we want \"to expand along the row\", so we introduce the `None` dimension on the row\n",
    "\n",
    "m = np.reshape(np.arange(15), (3, 5))\n",
    "vector = np.array([10, 11, 12, 13, 14])\n",
    "m += vector[None, :]\n",
    "print(m)"
   ]
  },
  {
   "cell_type": "markdown",
   "metadata": {},
   "source": [
    "## Performance comparisons\n",
    "\n",
    "Let's try with a very tall matrix, with 1 million rows."
   ]
  },
  {
   "cell_type": "code",
   "execution_count": 47,
   "metadata": {},
   "outputs": [
    {
     "name": "stdout",
     "output_type": "stream",
     "text": [
      "0.6077s elapsed with the iterating method\n",
      "0.0130s elapsed with the broadcasting method\n",
      "Broadcasting is 46.9100x faster\n"
     ]
    }
   ],
   "source": [
    "from time import time\n",
    "\n",
    "height, width = 1_000_000, 5\n",
    "\n",
    "m = np.reshape(np.arange(height*width), (height, width))\n",
    "vector = np.array([10, 11, 12, 13, 14])\n",
    "beginning_time = time()\n",
    "for row in m:\n",
    "    row += vector\n",
    "elapsed_time_iterating = time() - beginning_time\n",
    "print(\"{:.4f}s elapsed with the iterating method\".format(elapsed_time_iterating))\n",
    "\n",
    "\n",
    "m = np.reshape(np.arange(height*width), (height, width))\n",
    "vector = np.array([10, 11, 12, 13, 14])\n",
    "beginning_time = time()\n",
    "m += vector[None, :]\n",
    "elapsed_time_broadcasting = time() - beginning_time\n",
    "print(\"{:.4f}s elapsed with the broadcasting method\".format(elapsed_time_broadcasting))\n",
    "print(\"Broadcasting is {:.4f}x faster\".format(elapsed_time_iterating / elapsed_time_broadcasting))"
   ]
  }
 ],
 "metadata": {
  "interpreter": {
   "hash": "d6c21a451cc458c1a3016905611a31410e72e63593dc177dd12bc1df669080b2"
  },
  "kernelspec": {
   "display_name": "Python 3.9.8 64-bit ('gt')",
   "language": "python",
   "name": "python3"
  },
  "language_info": {
   "codemirror_mode": {
    "name": "ipython",
    "version": 3
   },
   "file_extension": ".py",
   "mimetype": "text/x-python",
   "name": "python",
   "nbconvert_exporter": "python",
   "pygments_lexer": "ipython3",
   "version": "3.9.8"
  },
  "orig_nbformat": 4
 },
 "nbformat": 4,
 "nbformat_minor": 2
}
